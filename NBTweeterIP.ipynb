{
 "cells": [
  {
   "cell_type": "markdown",
   "metadata": {},
   "source": [
    "* Procedure\n",
    "    * Divide data in train and test sets\n",
    "    * Keep test data in a safe!\n",
    "    * Transform test data (normalize, discretize, etc)\n",
    "    * Train model\n",
    "    * Transform test data with the parameters found in step 3\n",
    "    * Test model with test data\n",
    "    * Evaluate results"
   ]
  },
  {
   "cell_type": "code",
   "execution_count": 57,
   "metadata": {},
   "outputs": [],
   "source": [
    "from sklearn.naive_bayes import GaussianNB\n",
    "\n",
    "from matplotlib import pyplot\n",
    "import matplotlib.pyplot as plt\n",
    "import pybrain\n",
    "from pybrain.tools.shortcuts import buildNetwork\n",
    "from pybrain.datasets import SupervisedDataSet\n",
    "from pybrain.supervised.trainers import BackpropTrainer\n",
    "from mpl_toolkits.axes_grid1.inset_locator import inset_axes\n",
    "from sklearn.svm import SVC\n",
    "import random as rnd\n",
    "import pandas as pd\n",
    "import numpy as np\n",
    "import csv\n",
    "from mpl_toolkits.mplot3d import Axes3D\n",
    "from matplotlib.ticker import LinearLocator\n",
    "from sklearn.metrics import roc_curve, auc\n",
    "from sklearn.cross_validation import train_test_split\n",
    "from sklearn.metrics import confusion_matrix\n",
    "from sklearn import preprocessing\n",
    "from sklearn.metrics import mean_squared_error\n",
    "from sklearn.metrics import classification_report\n",
    "from sklearn.metrics import accuracy_score\n",
    "from math import sqrt\n",
    "from sklearn import metrics"
   ]
  },
  {
   "cell_type": "code",
   "execution_count": 2,
   "metadata": {},
   "outputs": [
    {
     "name": "stdout",
     "output_type": "stream",
     "text": [
      "/home/ariana/Documents/MCD/AMPython\r\n"
     ]
    },
    {
     "name": "stdout",
     "output_type": "stream",
     "text": [
      "/home/ariana/Documents/MCD/AMPython/May16\n"
     ]
    }
   ],
   "source": [
    "! pwd\n",
    "%cd ./May16"
   ]
  },
  {
   "cell_type": "code",
   "execution_count": 84,
   "metadata": {},
   "outputs": [],
   "source": [
    "df = pd.read_csv(\"svm.csv\")"
   ]
  },
  {
   "cell_type": "code",
   "execution_count": 85,
   "metadata": {},
   "outputs": [],
   "source": [
    "X_train, X_test, Y_train, Y_test = train_test_split(df.iloc[0:,0:-1], df[['agresivo']], train_size=0.75)"
   ]
  },
  {
   "cell_type": "code",
   "execution_count": 59,
   "metadata": {},
   "outputs": [],
   "source": [
    "X_scaler = preprocessing.StandardScaler().fit(X_train)\n",
    "Y_scaler = preprocessing.StandardScaler().fit(Y_train)\n",
    "Xscaler = X_scaler.transform(X_train)\n",
    "Yscaler = Y_scaler.transform(Y_train)\n",
    "X_scalerTe = preprocessing.StandardScaler().fit(X_test)\n",
    "Y_scalerTe = preprocessing.StandardScaler().fit(Y_test)\n",
    "XscalerTe = X_scalerTe.transform(X_test)\n",
    "YscalerTe = Y_scalerTe.transform(Y_test)\n",
    "#train X and y\n",
    "Xscaler = pd.DataFrame(Xscaler)\n",
    "Yscaler = pd.DataFrame(Yscaler)\n",
    "#test X and Y\n",
    "XscalerTe = pd.DataFrame(XscalerTe)\n",
    "YscalerTe = pd.DataFrame(YscalerTe)"
   ]
  },
  {
   "cell_type": "code",
   "execution_count": 86,
   "metadata": {},
   "outputs": [],
   "source": [
    "gnb = GaussianNB()\n",
    "nbtrain = gnb.fit(X_train,np.ravel(Y_train))"
   ]
  },
  {
   "cell_type": "code",
   "execution_count": 94,
   "metadata": {},
   "outputs": [],
   "source": [
    "Y_pred = modelo.predict_proba(X_test)\n",
    "Y_pred = Y_pred[:,1]"
   ]
  },
  {
   "cell_type": "code",
   "execution_count": 88,
   "metadata": {},
   "outputs": [
    {
     "data": {
      "text/plain": [
       "0.96311475409836067"
      ]
     },
     "execution_count": 88,
     "metadata": {},
     "output_type": "execute_result"
    }
   ],
   "source": [
    "from sklearn.metrics import accuracy_score\n",
    "accuracy_score(Y_test, Y_pred)"
   ]
  },
  {
   "cell_type": "code",
   "execution_count": 89,
   "metadata": {},
   "outputs": [
    {
     "name": "stdout",
     "output_type": "stream",
     "text": [
      "('threshauc', 0.9776119402985074)\n"
     ]
    }
   ],
   "source": [
    "# Graficamos la curva ROC\n",
    "fpr, tpr, thresholds = roc_curve(Y_test, Y_pred)\n",
    "fig = plt.figure()\n",
    "ax = fig.add_subplot(111)\n",
    "plt.plot(fpr, tpr, lw=2, label='Roc Curve SVM', color='darkblue')\n",
    "plt.axis([-0.4, 1.05, -0.05, 1.05])\n",
    "for x in range(0,len(thresholds),100):\n",
    "    a = round(thresholds[x],2)\n",
    "    b = [fpr[x],tpr[x]]\n",
    "    ax.annotate('(%s)' % a,xy=b,size='small', color='gray')\n",
    "plt.title(\"Roc Curve SVM\", color='darkred')\n",
    "plt.plot([-.05, 1.5], [-.05, 1.5], '--', color=(.6, .6, .6), label='Barrera')\n",
    "plt.xlabel('FP', color='black')\n",
    "plt.ylabel('TP', color=\"black\")\n",
    "plt.legend(loc=\"upper left\")\n",
    "plt.show()\n",
    "print('threshauc',metrics.auc(fpr, tpr))"
   ]
  },
  {
   "cell_type": "code",
   "execution_count": 90,
   "metadata": {},
   "outputs": [
    {
     "name": "stdout",
     "output_type": "stream",
     "text": [
      "('threshind', 1.0)\n       0\n239  1.0\n240  0.0\n241  0.0\n242  0.0\n243  0.0\n     0\n239  1\n240  0\n241  0\n242  0\n243  0\n('typeYpred2', <type 'list'>)\n('class names', array([ 0.,  1.]))\nConfusion matrix SVM:\n[[192   9]\n [  0  43]]\n"
     ]
    }
   ],
   "source": [
    "#Con el umbral de la ROC CURVE hacemos la Matriz de confusion\n",
    "\n",
    "\n",
    "dist=  map(sqrt,(1-tpr)**2+(fpr**2))\n",
    "ind = dist.index(min(dist))\n",
    "print('threshind',thresholds[ind])\n",
    "\n",
    "\n",
    "Y_pred2 = []\n",
    "umbral = thresholds[ind]\n",
    "\n",
    "for i in range(len(Y_pred)):\n",
    "    if Y_pred[i] >=umbral:\n",
    "        r_cat = 1\n",
    "    else:\n",
    "        r_cat = 0\n",
    "    Y_pred2.append(r_cat)\n",
    "\n",
    "print(pd.DataFrame(Y_pred).tail())\n",
    "print(pd.DataFrame(Y_pred2).tail())\n",
    "\n",
    "print('typeYpred2',type(Y_pred2))\n",
    "\n",
    "y = np.array(Y_test)\n",
    "class_names = np.unique(y)\n",
    "print('class names',class_names)\n",
    "\n",
    "cmtrx = confusion_matrix(Y_test,Y_pred2,labels=class_names)\n",
    "labels = class_names\n",
    "print(\"Confusion matrix SVM:\\n%s\" % cmtrx)"
   ]
  },
  {
   "cell_type": "code",
   "execution_count": 91,
   "metadata": {},
   "outputs": [
    {
     "name": "stdout",
     "output_type": "stream",
     "text": [
      "('MSE SVM', 0.036885245901639344)\n             precision    recall  f1-score   support\n\n        0.0       1.00      0.96      0.98       201\n        1.0       0.83      1.00      0.91        43\n\navg / total       0.97      0.96      0.96       244\n\n('accuracy_score', 0.96311475409836067)\n"
     ]
    }
   ],
   "source": [
    "#Metrics\n",
    "MSE = mean_squared_error(Y_test, Y_pred2)  #AQUI\n",
    "print('MSE SVM',MSE)\n",
    "y_true = Y_test\n",
    "y_predi = Y_pred2\n",
    "#print(pd.crosstab(y_true, y_predi, rownames=['True'], colnames=['Predicted'], margins=True))\n",
    "print(classification_report(y_true, y_predi))\n",
    "print('accuracy_score',accuracy_score(y_true, y_predi))"
   ]
  },
  {
   "cell_type": "code",
   "execution_count": 92,
   "metadata": {},
   "outputs": [],
   "source": [
    "norm_conf = []\n",
    "for i in cmtrx:\n",
    "    a = 0\n",
    "    tmp_arr = []\n",
    "    a = sum(i, 0)\n",
    "    for j in i:\n",
    "        tmp_arr.append(float(j)/float(a))\n",
    "    norm_conf.append(tmp_arr)\n",
    "\n",
    "fig = plt.figure()\n",
    "plt.clf()\n",
    "ax = fig.add_subplot(111)\n",
    "ax.set_aspect(1)\n",
    "res = ax.imshow(np.array(norm_conf), cmap=plt.cm.coolwarm,\n",
    "                interpolation='nearest')\n",
    "\n",
    "width = len(cmtrx)\n",
    "height = len(cmtrx[0])\n",
    "\n",
    "for x in xrange(width):\n",
    "    for y in xrange(height):\n",
    "        ax.annotate(str(cmtrx[x][y]), xy=(y, x),\n",
    "                    horizontalalignment='center',\n",
    "                    verticalalignment='center')\n",
    "\n",
    "cb = fig.colorbar(res)\n",
    "plt.title('Confusion Matrix SVM')\n",
    "plt.xticks(range(width), labels[:width])\n",
    "plt.yticks(range(height), labels[:height])\n",
    "plt.xlabel('Predicted')\n",
    "plt.ylabel('True')\n",
    "plt.savefig('confusion_matrix.png', format='png')\n",
    "plt.show()"
   ]
  }
 ],
 "metadata": {
  "name": ""
 },
 "nbformat": 4,
 "nbformat_minor": 0
}